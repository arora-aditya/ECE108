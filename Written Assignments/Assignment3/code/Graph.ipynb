{
 "cells": [
  {
   "cell_type": "code",
   "execution_count": 1,
   "metadata": {
    "collapsed": true
   },
   "outputs": [],
   "source": [
    "import numpy as np\n",
    "import pprint as pp"
   ]
  },
  {
   "cell_type": "code",
   "execution_count": 2,
   "metadata": {
    "collapsed": true
   },
   "outputs": [],
   "source": [
    "# THE GIVEN GRAPH\n",
    "# 1: 2,3,4\n",
    "# 2: 1,3,5,6\n",
    "# 3: 1,2,4,5\n",
    "# 4: 1,3,5,8,9\n",
    "# 5: 2,3,5,7,8\n",
    "# 6: 2,7\n",
    "# 7: 5,6,10\n",
    "# 8: 4,5,9,11,12,13,16\n",
    "# 9: 4,8,14\n",
    "# 10: 7,11,12,13,16\n",
    "# 11: 8,10,12,13,16\n",
    "# 12: 8,10,11,14,15\n",
    "# 13: 8,10,11,15,16\n",
    "# 14: 9,12,17\n",
    "# 15: 12,13,17\n",
    "# 16: 8,10,11,13,17\n",
    "# 17: 14,15,16\n"
   ]
  },
  {
   "cell_type": "code",
   "execution_count": 3,
   "metadata": {
    "collapsed": true
   },
   "outputs": [],
   "source": [
    "X = [\n",
    "    [0,1,1,1,0,0,0,0,0,0,0,0,0,0,0,0,0],\n",
    "    [1,0,1,0,1,1,0,0,0,0,0,0,0,0,0,0,0],\n",
    "    [1,1,0,1,1,0,0,0,0,0,0,0,0,0,0,0,0],\n",
    "    [1,0,1,0,1,0,0,1,1,0,0,0,0,0,0,0,0],\n",
    "    [0,1,1,1,0,0,1,1,0,0,0,0,0,0,0,0,0],\n",
    "    [0,1,0,0,0,0,1,0,0,0,0,0,0,0,0,0,0],\n",
    "    [0,0,0,0,1,1,0,0,0,1,0,0,0,0,0,0,0],\n",
    "    [0,0,0,1,1,0,0,0,1,0,1,1,1,0,0,1,0],\n",
    "    [0,0,0,1,0,0,0,1,0,0,0,0,0,1,0,0,0],\n",
    "    [0,0,0,0,0,0,1,0,0,0,1,1,1,0,0,1,0],\n",
    "    [0,0,0,0,0,0,0,1,0,1,0,1,1,0,0,1,0],\n",
    "    [0,0,0,0,0,0,0,1,0,1,1,0,0,1,1,0,0],\n",
    "    [0,0,0,0,0,0,0,1,0,1,1,0,0,0,1,1,0],\n",
    "    [0,0,0,0,0,0,0,0,1,0,0,1,0,0,0,0,1],\n",
    "    [0,0,0,0,0,0,0,0,0,0,0,1,1,0,0,0,1],\n",
    "    [0,0,0,0,0,0,0,1,0,1,1,0,1,0,0,0,1],\n",
    "    [0,0,0,0,0,0,0,0,0,0,0,0,0,1,1,1,0]\n",
    "]"
   ]
  },
  {
   "cell_type": "code",
   "execution_count": 4,
   "metadata": {},
   "outputs": [
    {
     "name": "stdout",
     "output_type": "stream",
     "text": [
      "17 17\n",
      "70\n"
     ]
    }
   ],
   "source": [
    "print(len(X),len(X[0])) # printing dimensions\n",
    "su = 0\n",
    "for i in X:\n",
    "    su += sum(i)\n",
    "\n",
    "print(su) # printing total number of connections"
   ]
  },
  {
   "cell_type": "code",
   "execution_count": 5,
   "metadata": {},
   "outputs": [
    {
     "name": "stdout",
     "output_type": "stream",
     "text": [
      "{1: [2, 3, 4],\n",
      " 2: [1, 3, 5, 6],\n",
      " 3: [1, 2, 4, 5],\n",
      " 4: [1, 3, 5, 8, 9],\n",
      " 5: [2, 3, 4, 7, 8],\n",
      " 6: [2, 7],\n",
      " 7: [5, 6, 10],\n",
      " 8: [4, 5, 9, 11, 12, 13, 16],\n",
      " 9: [4, 8, 14],\n",
      " 10: [7, 11, 12, 13, 16],\n",
      " 11: [8, 10, 12, 13, 16],\n",
      " 12: [8, 10, 11, 14, 15],\n",
      " 13: [8, 10, 11, 15, 16],\n",
      " 14: [9, 12, 17],\n",
      " 15: [12, 13, 17],\n",
      " 16: [8, 10, 11, 13, 17],\n",
      " 17: [14, 15, 16]}\n"
     ]
    }
   ],
   "source": [
    "a = {}\n",
    "for i in range(len(X)):\n",
    "    a[i+1] = []\n",
    "    for j in range(len(X[i])):\n",
    "        if(X[i][j] == 1):\n",
    "            a[i+1].append(j+1)\n",
    "pp.pprint(a)       "
   ]
  },
  {
   "cell_type": "code",
   "execution_count": 6,
   "metadata": {
    "collapsed": true
   },
   "outputs": [],
   "source": [
    "x = np.array(X, np.int32)"
   ]
  },
  {
   "cell_type": "code",
   "execution_count": 7,
   "metadata": {
    "collapsed": true
   },
   "outputs": [],
   "source": [
    "def paths(graph, v):\n",
    "    \"\"\"Generate the maximal cycle-free paths in graph starting at v.\n",
    "    graph must be a mapping from vertices to collections of\n",
    "    neighbouring vertices.\n",
    "    \"\"\"\n",
    "    path = [v]                  # path traversed so far\n",
    "    seen = {v}                  # set of vertices in path\n",
    "    def search():\n",
    "        dead_end = True\n",
    "        for neighbour in graph[path[-1]]:\n",
    "            if neighbour not in seen:\n",
    "                dead_end = False\n",
    "                seen.add(neighbour)\n",
    "                path.append(neighbour)\n",
    "                yield from search()\n",
    "                path.pop()\n",
    "                seen.remove(neighbour)\n",
    "        if dead_end:\n",
    "            yield list(path)\n",
    "    yield from search()"
   ]
  },
  {
   "cell_type": "code",
   "execution_count": 8,
   "metadata": {},
   "outputs": [
    {
     "name": "stdout",
     "output_type": "stream",
     "text": [
      "17 [1, 2, 6, 7, 5, 3, 4, 8, 9, 14, 12, 10, 11, 16, 13, 15, 17]\n"
     ]
    }
   ],
   "source": [
    "k = sorted(paths(a,1))\n",
    "ma = -1\n",
    "ik = -1\n",
    "for i in k:\n",
    "    if i[-1] == 17:\n",
    "        if len(i) > ma:\n",
    "            ma = len(i)\n",
    "            ik = i\n",
    "print(ma, ik) # Longest path in the given graph"
   ]
  },
  {
   "cell_type": "code",
   "execution_count": 9,
   "metadata": {
    "collapsed": true
   },
   "outputs": [],
   "source": [
    "# Checking for mismatched edges\n",
    "for i in range(len(x)):\n",
    "    for j in range(len(x[i])):\n",
    "        if x[i,j] != x.T[i,j]:\n",
    "            print(i+1,j+1)"
   ]
  },
  {
   "cell_type": "code",
   "execution_count": 10,
   "metadata": {},
   "outputs": [
    {
     "name": "stdout",
     "output_type": "stream",
     "text": [
      "4\n"
     ]
    }
   ],
   "source": [
    "y = x\n",
    "i = 1\n",
    "while y[0,16] == 0:\n",
    "    y = np.matmul(y,x)\n",
    "    i += 1  \n",
    "    \n",
    "print(i) # Shortest Path length\n",
    "    "
   ]
  },
  {
   "cell_type": "code",
   "execution_count": 9,
   "metadata": {},
   "outputs": [
    {
     "name": "stdout",
     "output_type": "stream",
     "text": [
      "\n",
      "\n"
     ]
    }
   ],
   "source": [
    "import networkx as nx\n",
    "import itertools as it\n",
    "from networkx.algorithms import bipartite\n",
    "\n",
    "def is_planar(G):\n",
    "    \"\"\"\n",
    "    function checks if graph G has K(5) or K(3,3) as minors,\n",
    "    returns True /False on planarity and nodes of \"bad_minor\"\n",
    "    \"\"\"\n",
    "    result=True\n",
    "    bad_minor=[]\n",
    "    n=len(G.nodes())\n",
    "    if n>5:\n",
    "        for subnodes in it.combinations(G.nodes(),6):\n",
    "            subG=G.subgraph(subnodes)\n",
    "            if bipartite.is_bipartite(G):# check if the graph G has a subgraph K(3,3)\n",
    "                X, Y = bipartite.sets(G)\n",
    "                if len(X)==3:\n",
    "                    result=False\n",
    "                    bad_minor=subnodes\n",
    "    if n>4 and result:\n",
    "        for subnodes in it.combinations(G.nodes(),5):\n",
    "            subG=G.subgraph(subnodes)\n",
    "            if len(subG.edges())==10:# check if the graph G has a subgraph K(5)\n",
    "                result=False\n",
    "                bad_minor=subnodes\n",
    "    return result,bad_minor\n",
    "\n",
    "#create random planar graph with n nodes and p probability of growing\n",
    "n=8\n",
    "p=0.6\n",
    "while True:\n",
    "    G=nx.gnp_random_graph(n,p)\n",
    "    print(G)\n",
    "    if is_planar(G)[0]:\n",
    "        print(G)\n",
    "        break\n",
    "# #visualize with pygraphviz\n",
    "# import matplotlib.pyplot as plt\n",
    "# nx.draw(G)\n",
    "# # comment the line above and uncomment one of the 3 lines below (try each of them):\n",
    "# # nx.draw_random(G)\n",
    "# # nx.draw_circular(G)\n",
    "# # nx.draw_spectral(G)\n",
    "# plt.show()\n"
   ]
  },
  {
   "cell_type": "code",
   "execution_count": 11,
   "metadata": {},
   "outputs": [
    {
     "name": "stdout",
     "output_type": "stream",
     "text": [
      "\n"
     ]
    }
   ],
   "source": [
    "print(nx.gnp_random_graph(n,p))"
   ]
  },
  {
   "cell_type": "code",
   "execution_count": null,
   "metadata": {
    "collapsed": true
   },
   "outputs": [],
   "source": []
  }
 ],
 "metadata": {
  "kernelspec": {
   "display_name": "Python 3",
   "language": "python",
   "name": "python3"
  },
  "language_info": {
   "codemirror_mode": {
    "name": "ipython",
    "version": 3
   },
   "file_extension": ".py",
   "mimetype": "text/x-python",
   "name": "python",
   "nbconvert_exporter": "python",
   "pygments_lexer": "ipython3",
   "version": "3.6.2"
  }
 },
 "nbformat": 4,
 "nbformat_minor": 2
}
